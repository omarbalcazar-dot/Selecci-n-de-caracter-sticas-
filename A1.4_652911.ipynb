{
  "metadata": {
    "kernelspec": {
      "name": "python",
      "display_name": "Python (Pyodide)",
      "language": "python"
    },
    "language_info": {
      "codemirror_mode": {
        "name": "python",
        "version": 3
      },
      "file_extension": ".py",
      "mimetype": "text/x-python",
      "name": "python",
      "nbconvert_exporter": "python",
      "pygments_lexer": "ipython3",
      "version": "3.8"
    }
  },
  "nbformat_minor": 5,
  "nbformat": 4,
  "cells": [
    {
      "id": "b044f08c-8dad-499a-a51f-735a287991f2",
      "cell_type": "markdown",
      "source": "Primero se cargan los datos con pandas, leyendo el archivo \"Vino_Tinto.csv\". Se muestran las dimensiones del conjunto y se muestran las primeras cinco filas para revisar que la lectura fue correcta, verificar nombres de variables y asegurarse de que los valores tengan sentido.",
      "metadata": {}
    },
    {
      "id": "2cdcbd5c-934c-496d-b7e3-3f6f26237e67",
      "cell_type": "code",
      "source": "import pandas as pd\n\ndf = pd.read_csv(\"Vino_Tinto.csv\")\nprint(\"Dimensiones del data frame:\", df.shape)\ndf.head()",
      "metadata": {
        "trusted": true
      },
      "outputs": [
        {
          "name": "stdout",
          "output_type": "stream",
          "text": "Dimensiones del data frame: (1599, 12)\n"
        },
        {
          "execution_count": 1,
          "output_type": "execute_result",
          "data": {
            "text/plain": "   acidezFija  acidezVolatil  acidoCitrico  azucarResidual  cloruros  \\\n0         7.4           0.70          0.00             1.9     0.076   \n1         7.8           0.88          0.00             2.6     0.098   \n2         7.8           0.76          0.04             2.3     0.092   \n3        11.2           0.28          0.56             1.9     0.075   \n4         7.4           0.70          0.00             1.9     0.076   \n\n   dioxidoAzufreLibre  dioxidoAzufreTotal  densidad    pH  sulfatos  alcohol  \\\n0                11.0                34.0    0.9978  3.51      0.56      9.4   \n1                25.0                67.0    0.9968  3.20      0.68      9.8   \n2                15.0                54.0    0.9970  3.26      0.65      9.8   \n3                17.0                60.0    0.9980  3.16      0.58      9.8   \n4                11.0                34.0    0.9978  3.51      0.56      9.4   \n\n   calidad  \n0        5  \n1        5  \n2        5  \n3        6  \n4        5  ",
            "text/html": "<div>\n<style scoped>\n    .dataframe tbody tr th:only-of-type {\n        vertical-align: middle;\n    }\n\n    .dataframe tbody tr th {\n        vertical-align: top;\n    }\n\n    .dataframe thead th {\n        text-align: right;\n    }\n</style>\n<table border=\"1\" class=\"dataframe\">\n  <thead>\n    <tr style=\"text-align: right;\">\n      <th></th>\n      <th>acidezFija</th>\n      <th>acidezVolatil</th>\n      <th>acidoCitrico</th>\n      <th>azucarResidual</th>\n      <th>cloruros</th>\n      <th>dioxidoAzufreLibre</th>\n      <th>dioxidoAzufreTotal</th>\n      <th>densidad</th>\n      <th>pH</th>\n      <th>sulfatos</th>\n      <th>alcohol</th>\n      <th>calidad</th>\n    </tr>\n  </thead>\n  <tbody>\n    <tr>\n      <th>0</th>\n      <td>7.4</td>\n      <td>0.70</td>\n      <td>0.00</td>\n      <td>1.9</td>\n      <td>0.076</td>\n      <td>11.0</td>\n      <td>34.0</td>\n      <td>0.9978</td>\n      <td>3.51</td>\n      <td>0.56</td>\n      <td>9.4</td>\n      <td>5</td>\n    </tr>\n    <tr>\n      <th>1</th>\n      <td>7.8</td>\n      <td>0.88</td>\n      <td>0.00</td>\n      <td>2.6</td>\n      <td>0.098</td>\n      <td>25.0</td>\n      <td>67.0</td>\n      <td>0.9968</td>\n      <td>3.20</td>\n      <td>0.68</td>\n      <td>9.8</td>\n      <td>5</td>\n    </tr>\n    <tr>\n      <th>2</th>\n      <td>7.8</td>\n      <td>0.76</td>\n      <td>0.04</td>\n      <td>2.3</td>\n      <td>0.092</td>\n      <td>15.0</td>\n      <td>54.0</td>\n      <td>0.9970</td>\n      <td>3.26</td>\n      <td>0.65</td>\n      <td>9.8</td>\n      <td>5</td>\n    </tr>\n    <tr>\n      <th>3</th>\n      <td>11.2</td>\n      <td>0.28</td>\n      <td>0.56</td>\n      <td>1.9</td>\n      <td>0.075</td>\n      <td>17.0</td>\n      <td>60.0</td>\n      <td>0.9980</td>\n      <td>3.16</td>\n      <td>0.58</td>\n      <td>9.8</td>\n      <td>6</td>\n    </tr>\n    <tr>\n      <th>4</th>\n      <td>7.4</td>\n      <td>0.70</td>\n      <td>0.00</td>\n      <td>1.9</td>\n      <td>0.076</td>\n      <td>11.0</td>\n      <td>34.0</td>\n      <td>0.9978</td>\n      <td>3.51</td>\n      <td>0.56</td>\n      <td>9.4</td>\n      <td>5</td>\n    </tr>\n  </tbody>\n</table>\n</div>"
          },
          "metadata": {}
        }
      ],
      "execution_count": 1
    },
    {
      "id": "10a1d0d4-a90c-4442-8857-91e2ac01c5c6",
      "cell_type": "markdown",
      "source": "Se realiza la partición de los datos en entrenamiento y prueba. Se separa la variaable objetivo (calidad) de las variables predictoras, y se utiliza train_test_split con una division de 80% para entrenamiento y 20% para prueba. Se usa random_state=63, para que el resultado se reproducible y se impriman las dimensiones de cada subconjunto. Asi asegura que hay un conjunto de prueba independiente para evaluar la capacidad de generalizacion del modelo.",
      "metadata": {}
    },
    {
      "id": "65ff5035-4988-4161-adb9-3b80505d1db6",
      "cell_type": "code",
      "source": "from sklearn.model_selection import train_test_split\n\ntarget_col = \"calidad\" if \"calidad\" in df.columns else df.columns[-1]\nx= df.drop(columns=[target_col])\ny = df[target_col]\n\nx_train, x_test, y_train, y_test = train_test_split(\n    x, y, test_size=0.2, random_state=63, shuffle= True )\nprint(\"Dimensiones entrenamiento:\", x_train.shape, \"| prueba:\", x_test.shape)\nprint(\"Total observaciones:\", len(df), \"| suma participaciones\", len(x_train) + len(x_test))\n",
      "metadata": {
        "trusted": true
      },
      "outputs": [
        {
          "name": "stdout",
          "output_type": "stream",
          "text": "Dimensiones entrenamiento: (1279, 11) | prueba: (320, 11)\nTotal observaciones: 1599 | suma participaciones 1599\n"
        }
      ],
      "execution_count": 13
    },
    {
      "id": "aefd590f-6b69-467b-810a-83ff00141aec",
      "cell_type": "markdown",
      "source": "Aqui se aplica el forward selection, con SequentialFeatureSelector. Para cada posible numeero de variables (k entre 2 y 8), el algoritmo contruye modelos de regresion lineal, agregando varaibles una por una de forma greedy, y mide el desempeñl usando validación cruzada de 10 folds con la metrica R². Se calcula el promedio de R² para cada subconjutno y se elige aquel que logra el valor mas alto y en caso de empate, el de menor k. Esto permite encontrar un conjunto de variables que explique bien la variacion de la calidad del vino sin incluir todas la variables disponibles.",
      "metadata": {}
    },
    {
      "id": "749f490e-f0cd-4723-bbef-a17b4ac7a327",
      "cell_type": "code",
      "source": "from sklearn.linear_model import LinearRegression\nfrom sklearn.model_selection import KFold, cross_val_score\nfrom sklearn.feature_selection import SequentialFeatureSelector\n\ndef cv_r2_for_features(columns, x_train, y_train, cv=10):\n    model = LinearRegression()\n    kf = KFold(n_splits=cv, shuffle=True, random_state=63)\n    return cross_val_score(model, x_train[columns], y_train, cv=kf, scoring=\"r2\").mean()\n\nforward_cand = range(2, min(8, x_train.shape[1]) + 1)\nforward_scores = []\nforward_sets = {}\n\nfor k in forward_cand:\n    sfs = SequentialFeatureSelector(\n        LinearRegression(),\n        n_features_to_select=k,\n        direction=\"forward\",\n        scoring=\"r2\",\n        cv=10\n    )\n    sfs.fit(x_train, y_train)\n    cols = x_train.columns[sfs.get_support()].tolist()\n    score_mean = cv_r2_for_features(cols, x_train, y_train, cv=10)\n    forward_scores.append((k, score_mean))\n    forward_sets[k] = cols\n\nbest_k, best_score = sorted(forward_scores, key=lambda t: (-t[1], t[0]))[0]\nforward_features = forward_sets[best_k]\n\nprint(\"Mejor k (forward):\", best_k)\nprint(\"Características seleccionadas (forward):\", forward_features)\nprint(\"CV R^2 medio (forward):\", round(best_score, 4))\n",
      "metadata": {
        "trusted": true
      },
      "outputs": [
        {
          "name": "stdout",
          "output_type": "stream",
          "text": "Mejor k (forward): 8\nCaracterísticas seleccionadas (forward): ['acidezVolatil', 'acidoCitrico', 'cloruros', 'dioxidoAzufreLibre', 'dioxidoAzufreTotal', 'pH', 'sulfatos', 'alcohol']\nCV R^2 medio (forward): 0.3407\n"
        }
      ],
      "execution_count": 19
    },
    {
      "id": "7a2c4cba-6e91-4ab5-81dd-dd8932174e18",
      "cell_type": "markdown",
      "source": "Una vez ya usado el subconjunto forward, se entrena un modelo de resion lineal multiple usando unicamente esas variables y se evalua en el conjunto de prueba. Se generan predicciones y se calcula el  R² de prueba con r2_score. Para verificar si el modelo seleccionado por validacion cruzada tambien sse desempeña bien en datos no vistos, que es lo qu realmente importa en la práctica",
      "metadata": {}
    },
    {
      "id": "2f10fd2b-0b8e-4cde-bb31-5b2af03bc904",
      "cell_type": "code",
      "source": "from sklearn.metrics import r2_score\nfwd_model = LinearRegression().fit(x_train[forward_features], y_train)\ny_pred_fwd = fwd_model.predict(x_test[forward_features])\nr2_fwd = r2_score(y_test, y_pred_fwd)\n\nprint(\"R^2 en prueba (forward):\", round(r2_fwd, 4))",
      "metadata": {
        "trusted": true
      },
      "outputs": [
        {
          "name": "stdout",
          "output_type": "stream",
          "text": "R^2 en prueba (forward): 0.3678\n"
        }
      ],
      "execution_count": 43
    },
    {
      "id": "6bd08602-fd8d-43d0-86f5-501cc031593e",
      "cell_type": "markdown",
      "source": "Se usa el backward selection partiendo del conjunto de variables encontrado en forward. El algoritmo comienza con todas esas variables y elimina una por una, probando subconjuntos de tamaño k entre 2 y 5 o hasta el tamaño del conjunto forward si es menor. Se usa el 10 folds con R². Se reduce el número de variables manteniendo un buen desempeño, lo que da lugar a un modelo mas simple y facil de interpretar",
      "metadata": {}
    },
    {
      "id": "35dfbcdd-b8c9-4b32-887f-2e78739ea29d",
      "cell_type": "code",
      "source": "backward_scores = []\nbackward_sets = {}\nmax_k_back = min(5, len(forward_features))\nbackward_cand = range(2, max_k_back + 1) if max_k_back >= 2 else [len(forward_features)]\n\nfor k in backward_cand:\n    sfs_bwd = SequentialFeatureSelector(\n        LinearRegression(),\n        n_features_to_select=k,\n        direction=\"backward\",\n        scoring=\"r2\",\n        cv=10\n    )\n    sfs_bwd.fit(x_train[forward_features], y_train)\n    cols_bwd = pd.Index(forward_features)[sfs_bwd.get_support()].tolist()\n    score_mean_bwd = cv_r2_for_features(cols_bwd, x_train, y_train, cv=10)\n    backward_scores.append((k, score_mean_bwd))\n    backward_sets[k] = cols_bwd\n\nbest_k_bwd, best_score_bwd = sorted(backward_scores, key=lambda t: (-t[1], t[0]))[0]\nbackward_features = backward_sets[best_k_bwd]\n\nprint(\"Mejor k (backward):\", best_k_bwd)\nprint(\"Características seleccionadas (backward):\", backward_features)\nprint(\"CV R^2 medio (backward):\", round(best_score_bwd, 4))\n",
      "metadata": {
        "trusted": true
      },
      "outputs": [
        {
          "name": "stdout",
          "output_type": "stream",
          "text": "Mejor k (backward): 5\nCaracterísticas seleccionadas (backward): ['acidezVolatil', 'cloruros', 'dioxidoAzufreTotal', 'sulfatos', 'alcohol']\nCV R^2 medio (backward): 0.3339\n"
        }
      ],
      "execution_count": 21
    },
    {
      "id": "805ef05d-8a06-473a-bd02-495cb763d6da",
      "cell_type": "markdown",
      "source": "Se usa un modelo de regresión lineal con las variables seleccionadas en backward, se calcula el R² en prueba y se compara con el modelo forward. Si el backward es un R² similiar al forward pero con menos varaibles, se prefiere por simplicidad. En cambio, si el forward tiene un R² de pruea mejor, conviene quedarse con él. Utilice el if, elif y else, esto me sirve para comparar automaticamente el desempeño de los modelos y monstrar un mensaje de conclusión ",
      "metadata": {}
    },
    {
      "id": "911ecf04-be56-42d7-a2d7-2ed0041eb90b",
      "cell_type": "code",
      "source": "bwd_model = LinearRegression().fit(x_train[backward_features], y_train)\ny_pred_bwd = bwd_model.predict(x_test[backward_features])\nr2_bwd = r2_score (y_test, y_pred_bwd)\n\nprint(\"R^2 en prueba (backward):\", round(r2_bwd, 4))\n\nif r2_bwd > r2_fwd:\n    print(\"\\nConclusión: el backward tiene mejor R^2 en prueba que forward, entonces es mejor.\")\nelif r2_bwd < r2_fwd:\n    print(\"\\nConclusión: el forward tiene mejor R^2 en prueba que backward, entonces es mejor.\")\nelse:\n    print(\"\\nConclusión: ambos empatan en R^2 de prueba; en tal caso favorece el de menor k.\")\n",
      "metadata": {
        "trusted": true
      },
      "outputs": [
        {
          "name": "stdout",
          "output_type": "stream",
          "text": "R^2 en prueba (backward): 0.3626\n\nConclusión: el forward tiene mejor R^2 en prueba que backward, entonces es mejor.\n"
        }
      ],
      "execution_count": 42
    },
    {
      "id": "ca849580-5571-422a-a6e3-7ba4b36f5303",
      "cell_type": "markdown",
      "source": "El forward obtuvo un R² en prueba ligeramente mayor en comparacion con el backward. El modelo forward tiene un desempeño mejor aunque sea poco, la diferencia en R² es minima (0.0052).\nConsidero que el modelo backward puede ser preferible, ya que casi logra el mismo nivel de ajuste, pero con menos variables, lo cual lo hace mas simple.",
      "metadata": {}
    }
  ]
}